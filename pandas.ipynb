{
  "cells": [
    {
      "metadata": {
        "_uuid": "a317212056af62bfe1fae9eb1afd862f9183da21"
      },
      "cell_type": "markdown",
      "source": "**[Pandas Course Home Page](https://www.kaggle.com/learn/pandas)**\n\n---\n"
    },
    {
      "metadata": {
        "_uuid": "d658b13ca95ecff1f2010d3c1362fd9dc9aaf3c8"
      },
      "cell_type": "markdown",
      "source": "# Creating, reading, and writing reference\n\nThis is the reference component to the \"Creating, reading, and writing\" section of the tutorial. \n\nThe very first step in any data analytics project will probably reading the data out of a file somewhere, so it makes sense that that's the first thing we'd need to cover. In this section, we'll look at exercises on creating `pandas` `Series` and `DataFrame` objects, both by hand and by reading data from disc.\n\nThe [IO Tools](http://pandas.pydata.org/pandas-docs/stable/io.html) section of the official `pandas` docs provides a comprehensive overview on this subject."
    },
    {
      "metadata": {
        "trusted": false,
        "_uuid": "59aacee0e591bb4eac81b9849893e68b31406c2a"
      },
      "cell_type": "code",
      "source": "import pandas as pd",
      "execution_count": null,
      "outputs": []
    },
    {
      "metadata": {
        "_uuid": "8da12111975c56f101d2f726cdca5e650273fb83"
      },
      "cell_type": "markdown",
      "source": "## Creating data\n\nThere are two core objects in `pandas`: the **DataFrame** and the **Series**.\n\nA DataFrame is a table. It contains an array of individual *entries*, each of which has a certain *value*. Each entry corresponds with a row (or *record*) and a *column*.\n\nFor example, consider the following simple `DataFrame`:"
    },
    {
      "metadata": {
        "trusted": false,
        "_uuid": "f7e5ccf509e30a32551684e636c19ab77101be10"
      },
      "cell_type": "code",
      "source": "pd.DataFrame({'Yes': [50, 21], 'No': [131, 2]})",
      "execution_count": null,
      "outputs": []
    },
    {
      "metadata": {
        "_uuid": "25ecc592a25af3484770a4ddb153ffdb36611e2b"
      },
      "cell_type": "markdown",
      "source": "In this example, the \"0, No\" entry has the value of 131. The \"0, Yes\" entry has a value of 50, and so on.\n\n`DataFrame` entries are not limited to integers. For instance, here's a `DataFrame` whose values are `str` strings:"
    },
    {
      "metadata": {
        "trusted": false,
        "_uuid": "30a81c308e34755f90346baa4ff9635b93d7a384"
      },
      "cell_type": "code",
      "source": "pd.DataFrame({'Bob': ['I liked it.', 'It was awful.'], 'Sue': ['Pretty good.', 'Bland.']})",
      "execution_count": null,
      "outputs": []
    },
    {
      "metadata": {
        "_uuid": "34e09662d2923ecdb99e823ddbd0886837e47636"
      },
      "cell_type": "markdown",
      "source": "We are using the `pd.DataFrame` constructor to generate these `DataFrame` objects. The syntax for declaring a new one is a dictionary whose keys are the column names (`Bob` and `Sue` in this example), and whose values are a list of entries. This is the standard way of constructing a new `DataFrame`, and the one you are likliest to encounter."
    },
    {
      "metadata": {
        "_uuid": "2ea332876254f9f000919968915dfed9d296b22c"
      },
      "cell_type": "markdown",
      "source": "The dictionary-list constructor assigns values to the *column labels*, but just uses an ascending count from 0 (0, 1, 2, 3, ...) for the *row labels*. Sometimes this is OK, but oftentimes we will want to assign these labels ourselves.\n\nThe list of row labels used in a `DataFrame` is known as an **Index**. We can assign values to it by using an `index` parameter in our constructor:"
    },
    {
      "metadata": {
        "trusted": false,
        "_uuid": "a3b8db0c37dd68485ea5de578cb67ffae76c0870"
      },
      "cell_type": "code",
      "source": "pd.DataFrame({'Bob': ['I liked it.', 'It was awful.'], \n              'Sue': ['Pretty good.', 'Bland.']},\n             index=['Product A', 'Product B'])",
      "execution_count": null,
      "outputs": []
    },
    {
      "metadata": {
        "_uuid": "3c904449c7ccaa27eca01a1159ef0a5fbf0b1db0"
      },
      "cell_type": "markdown",
      "source": "A Series, by contrast, is a sequence of data values. If a `DataFrame` is a table, a `Series` is a list. And in fact you can create one with nothing more than a list:"
    },
    {
      "metadata": {
        "trusted": false,
        "_uuid": "775e6bcffe54271bcc38e399ba1092cc1f580390"
      },
      "cell_type": "code",
      "source": "pd.Series([1, 2, 3, 4, 5])",
      "execution_count": null,
      "outputs": []
    },
    {
      "metadata": {
        "_uuid": "5337a6d42eb74f201f5833f3772ac446b443cf7e"
      },
      "cell_type": "markdown",
      "source": "A `Series` is, in essence, a single column of a `DataFrame`. So you can assign column values to the `Series` the same way as before, using an `index` parameter. However, a `Series` do not have a column name, it only has one overall `name`:"
    },
    {
      "metadata": {
        "trusted": false,
        "_uuid": "ac6229961ae16ffb3e1f36bb5f21136d791be238"
      },
      "cell_type": "code",
      "source": "pd.Series([30, 35, 40], index=['2015 Sales', '2016 Sales', '2017 Sales'], name='Product A')",
      "execution_count": null,
      "outputs": []
    },
    {
      "metadata": {
        "_uuid": "4108bad0b78ae00d7ec1a513f303949485423f3f"
      },
      "cell_type": "markdown",
      "source": "`Series` and the `DataFrame` are intimately related. It's helpful to think of a `DataFrame` as actually being just a bunch of `Series` \"glue together\". We'll see more of this in the next section of this tutorial."
    },
    {
      "metadata": {
        "_uuid": "f3add90c4dd5119e728e5f807f413fe557b0b921"
      },
      "cell_type": "markdown",
      "source": "## Reading common file formats\n\nBeing able to create a `DataFrame` and `Series` by hand is handy. But, most of the time, we won't actually be creating our own data by hand, we'll be working with data that already exists.\n\nData can be stored in any of a number of different forms and formats. By far the most basic of these is the humble CSV file. When you open a CSV file you get something that looks like this:\n\n```csv\nProduct A,Product B,Product C,\n30,21,9,\n35,34,1,\n41,11,11\n```\n\nSo a CSV file is a table of values separated by commas. Hence the name: \"comma-seperated values\", or CSV.\n\nLet's now set aside our toy datasets and see what a real dataset looks like when we read it into a `DataFrame`. We'll use the `read_csv` function to read the data into a `DataFrame`. This goes thusly:"
    },
    {
      "metadata": {
        "trusted": false,
        "_uuid": "020dc4601ac73ac0776e2dea074d258a87a1175a"
      },
      "cell_type": "code",
      "source": "wine_reviews = pd.read_csv(\"../input/wine-reviews/winemag-data-130k-v2.csv\")",
      "execution_count": null,
      "outputs": []
    },
    {
      "metadata": {
        "_uuid": "97539210e97875e0c2eeb383e704d319565522c5"
      },
      "cell_type": "markdown",
      "source": "We can use the `shape` attribute to check how large the resulting `DataFrame` is:"
    },
    {
      "metadata": {
        "scrolled": false,
        "trusted": false,
        "_uuid": "4efab9acbbc2321ec498660935c55b612b7cfff2"
      },
      "cell_type": "code",
      "source": "wine_reviews.shape",
      "execution_count": null,
      "outputs": []
    },
    {
      "metadata": {
        "_uuid": "ceed722bb58e6aebbacdb561f8ecbd4ef3a3d70f"
      },
      "cell_type": "markdown",
      "source": "So our new `DataFrame` has 130,000 records split across 14 different columns. That's almost 2 million entries!\n\nWe can examine the contents of the resultant `DataFrame` using the `head` command, which grabs the first five rows:"
    },
    {
      "metadata": {
        "trusted": false,
        "_uuid": "00a1d2ea70e4ad5c1e3e2556a4a05ae2621f9df7"
      },
      "cell_type": "code",
      "source": "wine_reviews.head()",
      "execution_count": null,
      "outputs": []
    },
    {
      "metadata": {
        "collapsed": true,
        "_uuid": "d152793dbb2c5e18073789435db17c063ab3f195"
      },
      "cell_type": "markdown",
      "source": "The `pandas` `read_csv` function is well-endowed, with over 30 optional parameters you can specify. For example, you can see in this dataset that the `csv` file has an in-built index, which `pandas` did not pick up on automatically. To make `pandas` use that column for the index (instead of creating a new one from scratch), we may specify and use an `index_col`."
    },
    {
      "metadata": {
        "trusted": false,
        "_uuid": "d005c42fcdb03be435e6679b2d885272c733ef4f"
      },
      "cell_type": "code",
      "source": "wine_reviews = pd.read_csv(\"../input/wine-reviews/winemag-data-130k-v2.csv\", index_col=0)\nwine_reviews.head()",
      "execution_count": null,
      "outputs": []
    },
    {
      "metadata": {
        "collapsed": true,
        "_uuid": "11339954f3ced2c4b360a08e4426fdcf1170503f"
      },
      "cell_type": "markdown",
      "source": "Let's look at a few more datatypes you're likely to encounter.\n\nFirst up, the venerable Excel spreadsheet. An Excel file (`XLS` or `XLST`) organizes itself as a sequence of named sheets. Each sheet is basically a table. So to load the data into `pandas` we need one additional parameter: the name of the sheet of interest.\n\nSo this:\n\n![](https://s3.amazonaws.com/nonwebstorage/excel.png)\n\nBecomes this:\n\n<!-- First up, the venerable SQL database. You can read a single table in a SQL database directly into a `pandas` `DataFrame` using the `read_sql` method. The only thing you need is -->"
    },
    {
      "metadata": {
        "trusted": false,
        "_uuid": "d030140f35a0cbb1f11158e37df790da605091f9"
      },
      "cell_type": "code",
      "source": "wic = pd.read_excel(\"../input/publicassistance/xls_files_all/WICAgencies2013ytd.xls\", \n                    sheet_name='Total Women')\nwic.head()",
      "execution_count": null,
      "outputs": []
    },
    {
      "metadata": {
        "_uuid": "030b543223bca439178417dc2e88b6ff84a61305"
      },
      "cell_type": "markdown",
      "source": "As you can see in this example, Excel files are often not formatted as well as CSV files are. Spreadsheets allow (and encourage) creating notes and fields which are human-readable, but not machine-readable.\n\nSo before we can use this particular dataset, we will need to clean it up a bit. We will see how to do so in the next section.\n\nFor now, let's move on to another common data format: SQL files.\n\nSQL databases are where most of the data on the web ultimately gets stored. They can be used to store data on things as simple as recipes to things as complicated as \"almost everything on the Kaggle website\".\n\nConnecting to a SQL database requires a lot more thought than reading from an Excel file. For one, you need to create a **connector**, something that will handle siphoning data from the database.\n\n`pandas` won't do this for you automatically because there are many, many different types of SQL databases out there, each with its own connector. So for a SQLite database (the only kind supported on Kaggle), you would need to first do the following (using the `sqlite3` library that comes with Python):"
    },
    {
      "metadata": {
        "trusted": false,
        "_uuid": "1584fe716131e211ccab87b7d6e323904ad9ca40"
      },
      "cell_type": "code",
      "source": "import sqlite3\nconn = sqlite3.connect(\"../input/188-million-us-wildfires/FPA_FOD_20170508.sqlite\")",
      "execution_count": null,
      "outputs": []
    },
    {
      "metadata": {
        "_uuid": "1b61ac2d4c4ff393212c18d0fcb547fc0c9cd67f"
      },
      "cell_type": "markdown",
      "source": "The other thing you need to do is write a SQL statement. Internally, SQL databases all operate very differently. Externally, however, they all provide the same API, the \"Structured Query Language\" (or...SQL...for short).\n\nWe (very briefly) need to use SQL to load data into \n\nFor the purposes of analysis however we can usually just think of a SQL database as a set of tables with names, and SQL as a minor inconvenience in getting that data out of said tables.\n\nSo, without further ado, here is all the SQL you have to know to get the data out of `SQLite` and into `pandas`:"
    },
    {
      "metadata": {
        "trusted": false,
        "_uuid": "d33b2bd73014699d0578071d19ce236ccbfc455f"
      },
      "cell_type": "code",
      "source": "fires = pd.read_sql_query(\"SELECT * FROM fires\", conn)",
      "execution_count": null,
      "outputs": []
    },
    {
      "metadata": {
        "_uuid": "047f7c4c29fe22c7213dbeb344e42a4d0ebe1d7f"
      },
      "cell_type": "markdown",
      "source": "Every SQL statement begins with `SELECT`. The asterisk (`*`) is a wildcard character, meaning \"everything\", and `FROM fires` tells the database we want only the data from the `fires` table specifically.\n\nAnd, out the other end, data:"
    },
    {
      "metadata": {
        "trusted": false,
        "_uuid": "f2f488a4286aa21122fae8ae04495e246a4f43de"
      },
      "cell_type": "code",
      "source": "fires.head()",
      "execution_count": null,
      "outputs": []
    },
    {
      "metadata": {
        "_uuid": "5476683a1962daf5d82cc6dbfd41fbefed5969d8"
      },
      "cell_type": "markdown",
      "source": "## Writing common file formats"
    },
    {
      "metadata": {
        "_uuid": "e1429558d91a6066be058e86d4e8a0eb5ffa964c"
      },
      "cell_type": "markdown",
      "source": "Writing data to a file is usually easier than reading it out of one, because `pandas` handles the nuisance of conversions for you. \n\nWe'll start with CSV files again. The opposite of `read_csv`, which reads our data, is `to_csv`, which writes it. With CSV files it's dead simple:"
    },
    {
      "metadata": {
        "trusted": false,
        "_uuid": "e63d9796b237ff9acb2a1dae0a3f26da6ec20189"
      },
      "cell_type": "code",
      "source": "wine_reviews.head().to_csv(\"wine_reviews.csv\")",
      "execution_count": null,
      "outputs": []
    },
    {
      "metadata": {
        "_uuid": "df6203a0866b7fead28380ff840f807f3df7dc27"
      },
      "cell_type": "markdown",
      "source": "To write an Excel file back you need `to_excel` and the `sheet_name` again:"
    },
    {
      "metadata": {
        "trusted": false,
        "_uuid": "4f505fb9f4e1d002bfe1955b473a47aa1fe787a9"
      },
      "cell_type": "code",
      "source": "wic.to_excel('wic.xlsx', sheet_name='Total Women')",
      "execution_count": null,
      "outputs": []
    },
    {
      "metadata": {
        "_uuid": "be085bd3d6e0d2331edf91210abcc9725aba7cfd"
      },
      "cell_type": "markdown",
      "source": "And finally, to output to a SQL database, supply the name of the table in the database we want to throw the data into, and a connector:"
    },
    {
      "metadata": {
        "trusted": false,
        "_uuid": "b34f1ed35c507364f16f3c5b6d434fe7106cb9fb"
      },
      "cell_type": "code",
      "source": "conn = sqlite3.connect(\"fires.sqlite\")\nfires.head(10).to_sql(\"fires\", conn)",
      "execution_count": null,
      "outputs": []
    },
    {
      "metadata": {
        "_uuid": "007d35b5949d30a9e494078dda9da3897f5c7868"
      },
      "cell_type": "markdown",
      "source": "Painless!"
    },
    {
      "metadata": {
        "_uuid": "1123e11a41e16d97669605492f9d1455b8ae1479"
      },
      "cell_type": "markdown",
      "source": "---\n**[Pandas Course Home Page](https://www.kaggle.com/learn/pandas)**\n\n"
    }
  ],
  "metadata": {
    "kernelspec": {
      "display_name": "Python 3",
      "language": "python",
      "name": "python3"
    },
    "language_info": {
      "codemirror_mode": {
        "name": "ipython",
        "version": 3
      },
      "file_extension": ".py",
      "mimetype": "text/x-python",
      "name": "python",
      "nbconvert_exporter": "python",
      "pygments_lexer": "ipython3",
      "version": "3.6.5"
    }
  },
  "nbformat": 4,
  "nbformat_minor": 1
}
